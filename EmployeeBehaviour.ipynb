{
  "nbformat": 4,
  "nbformat_minor": 0,
  "metadata": {
    "colab": {
      "name": "Untitled1.ipynb",
      "provenance": []
    },
    "kernelspec": {
      "name": "python3",
      "display_name": "Python 3"
    },
    "language_info": {
      "name": "python"
    }
  },
  "cells": [
    {
      "cell_type": "code",
      "execution_count": 29,
      "metadata": {
        "id": "vRb6pOopTqUR"
      },
      "outputs": [],
      "source": [
        "import pandas as pd\n",
        "import seaborn as sns\n",
        "import matplotlib.pyplot as plt\n",
        "from sklearn.neighbors import KNeighborsClassifier\n",
        "from sklearn.preprocessing import StandardScaler\n",
        "from sklearn.model_selection import train_test_split\n",
        "from sklearn.metrics import accuracy_score, confusion_matrix, mean_squared_error,classification_report\n",
        "from sklearn.metrics import precision_recall_fscore_support as score"
      ]
    },
    {
      "cell_type": "code",
      "source": [
        "dataframe=pd.read_csv(\"/content/HR_comma_sep.csv\")\n",
        "dataframe.head(10)"
      ],
      "metadata": {
        "colab": {
          "base_uri": "https://localhost:8080/",
          "height": 427
        },
        "id": "2hO8rNgaTvpf",
        "outputId": "741aacc9-47a6-4107-f784-0fd66588d3ea"
      },
      "execution_count": 6,
      "outputs": [
        {
          "output_type": "execute_result",
          "data": {
            "text/plain": [
              "   satisfaction_level  last_evaluation  number_project  average_montly_hours  \\\n",
              "0                0.38             0.53               2                   157   \n",
              "1                0.80             0.86               5                   262   \n",
              "2                0.11             0.88               7                   272   \n",
              "3                0.72             0.87               5                   223   \n",
              "4                0.37             0.52               2                   159   \n",
              "5                0.41             0.50               2                   153   \n",
              "6                0.10             0.77               6                   247   \n",
              "7                0.92             0.85               5                   259   \n",
              "8                0.89             1.00               5                   224   \n",
              "9                0.42             0.53               2                   142   \n",
              "\n",
              "   time_spend_company  Work_accident  left  promotion_last_5years Department  \\\n",
              "0                   3              0     1                      0      sales   \n",
              "1                   6              0     1                      0      sales   \n",
              "2                   4              0     1                      0      sales   \n",
              "3                   5              0     1                      0      sales   \n",
              "4                   3              0     1                      0      sales   \n",
              "5                   3              0     1                      0      sales   \n",
              "6                   4              0     1                      0      sales   \n",
              "7                   5              0     1                      0      sales   \n",
              "8                   5              0     1                      0      sales   \n",
              "9                   3              0     1                      0      sales   \n",
              "\n",
              "   salary  \n",
              "0     low  \n",
              "1  medium  \n",
              "2  medium  \n",
              "3     low  \n",
              "4     low  \n",
              "5     low  \n",
              "6     low  \n",
              "7     low  \n",
              "8     low  \n",
              "9     low  "
            ],
            "text/html": [
              "\n",
              "  <div id=\"df-18a4f706-25cb-407b-966e-8a91452827dd\">\n",
              "    <div class=\"colab-df-container\">\n",
              "      <div>\n",
              "<style scoped>\n",
              "    .dataframe tbody tr th:only-of-type {\n",
              "        vertical-align: middle;\n",
              "    }\n",
              "\n",
              "    .dataframe tbody tr th {\n",
              "        vertical-align: top;\n",
              "    }\n",
              "\n",
              "    .dataframe thead th {\n",
              "        text-align: right;\n",
              "    }\n",
              "</style>\n",
              "<table border=\"1\" class=\"dataframe\">\n",
              "  <thead>\n",
              "    <tr style=\"text-align: right;\">\n",
              "      <th></th>\n",
              "      <th>satisfaction_level</th>\n",
              "      <th>last_evaluation</th>\n",
              "      <th>number_project</th>\n",
              "      <th>average_montly_hours</th>\n",
              "      <th>time_spend_company</th>\n",
              "      <th>Work_accident</th>\n",
              "      <th>left</th>\n",
              "      <th>promotion_last_5years</th>\n",
              "      <th>Department</th>\n",
              "      <th>salary</th>\n",
              "    </tr>\n",
              "  </thead>\n",
              "  <tbody>\n",
              "    <tr>\n",
              "      <th>0</th>\n",
              "      <td>0.38</td>\n",
              "      <td>0.53</td>\n",
              "      <td>2</td>\n",
              "      <td>157</td>\n",
              "      <td>3</td>\n",
              "      <td>0</td>\n",
              "      <td>1</td>\n",
              "      <td>0</td>\n",
              "      <td>sales</td>\n",
              "      <td>low</td>\n",
              "    </tr>\n",
              "    <tr>\n",
              "      <th>1</th>\n",
              "      <td>0.80</td>\n",
              "      <td>0.86</td>\n",
              "      <td>5</td>\n",
              "      <td>262</td>\n",
              "      <td>6</td>\n",
              "      <td>0</td>\n",
              "      <td>1</td>\n",
              "      <td>0</td>\n",
              "      <td>sales</td>\n",
              "      <td>medium</td>\n",
              "    </tr>\n",
              "    <tr>\n",
              "      <th>2</th>\n",
              "      <td>0.11</td>\n",
              "      <td>0.88</td>\n",
              "      <td>7</td>\n",
              "      <td>272</td>\n",
              "      <td>4</td>\n",
              "      <td>0</td>\n",
              "      <td>1</td>\n",
              "      <td>0</td>\n",
              "      <td>sales</td>\n",
              "      <td>medium</td>\n",
              "    </tr>\n",
              "    <tr>\n",
              "      <th>3</th>\n",
              "      <td>0.72</td>\n",
              "      <td>0.87</td>\n",
              "      <td>5</td>\n",
              "      <td>223</td>\n",
              "      <td>5</td>\n",
              "      <td>0</td>\n",
              "      <td>1</td>\n",
              "      <td>0</td>\n",
              "      <td>sales</td>\n",
              "      <td>low</td>\n",
              "    </tr>\n",
              "    <tr>\n",
              "      <th>4</th>\n",
              "      <td>0.37</td>\n",
              "      <td>0.52</td>\n",
              "      <td>2</td>\n",
              "      <td>159</td>\n",
              "      <td>3</td>\n",
              "      <td>0</td>\n",
              "      <td>1</td>\n",
              "      <td>0</td>\n",
              "      <td>sales</td>\n",
              "      <td>low</td>\n",
              "    </tr>\n",
              "    <tr>\n",
              "      <th>5</th>\n",
              "      <td>0.41</td>\n",
              "      <td>0.50</td>\n",
              "      <td>2</td>\n",
              "      <td>153</td>\n",
              "      <td>3</td>\n",
              "      <td>0</td>\n",
              "      <td>1</td>\n",
              "      <td>0</td>\n",
              "      <td>sales</td>\n",
              "      <td>low</td>\n",
              "    </tr>\n",
              "    <tr>\n",
              "      <th>6</th>\n",
              "      <td>0.10</td>\n",
              "      <td>0.77</td>\n",
              "      <td>6</td>\n",
              "      <td>247</td>\n",
              "      <td>4</td>\n",
              "      <td>0</td>\n",
              "      <td>1</td>\n",
              "      <td>0</td>\n",
              "      <td>sales</td>\n",
              "      <td>low</td>\n",
              "    </tr>\n",
              "    <tr>\n",
              "      <th>7</th>\n",
              "      <td>0.92</td>\n",
              "      <td>0.85</td>\n",
              "      <td>5</td>\n",
              "      <td>259</td>\n",
              "      <td>5</td>\n",
              "      <td>0</td>\n",
              "      <td>1</td>\n",
              "      <td>0</td>\n",
              "      <td>sales</td>\n",
              "      <td>low</td>\n",
              "    </tr>\n",
              "    <tr>\n",
              "      <th>8</th>\n",
              "      <td>0.89</td>\n",
              "      <td>1.00</td>\n",
              "      <td>5</td>\n",
              "      <td>224</td>\n",
              "      <td>5</td>\n",
              "      <td>0</td>\n",
              "      <td>1</td>\n",
              "      <td>0</td>\n",
              "      <td>sales</td>\n",
              "      <td>low</td>\n",
              "    </tr>\n",
              "    <tr>\n",
              "      <th>9</th>\n",
              "      <td>0.42</td>\n",
              "      <td>0.53</td>\n",
              "      <td>2</td>\n",
              "      <td>142</td>\n",
              "      <td>3</td>\n",
              "      <td>0</td>\n",
              "      <td>1</td>\n",
              "      <td>0</td>\n",
              "      <td>sales</td>\n",
              "      <td>low</td>\n",
              "    </tr>\n",
              "  </tbody>\n",
              "</table>\n",
              "</div>\n",
              "      <button class=\"colab-df-convert\" onclick=\"convertToInteractive('df-18a4f706-25cb-407b-966e-8a91452827dd')\"\n",
              "              title=\"Convert this dataframe to an interactive table.\"\n",
              "              style=\"display:none;\">\n",
              "        \n",
              "  <svg xmlns=\"http://www.w3.org/2000/svg\" height=\"24px\"viewBox=\"0 0 24 24\"\n",
              "       width=\"24px\">\n",
              "    <path d=\"M0 0h24v24H0V0z\" fill=\"none\"/>\n",
              "    <path d=\"M18.56 5.44l.94 2.06.94-2.06 2.06-.94-2.06-.94-.94-2.06-.94 2.06-2.06.94zm-11 1L8.5 8.5l.94-2.06 2.06-.94-2.06-.94L8.5 2.5l-.94 2.06-2.06.94zm10 10l.94 2.06.94-2.06 2.06-.94-2.06-.94-.94-2.06-.94 2.06-2.06.94z\"/><path d=\"M17.41 7.96l-1.37-1.37c-.4-.4-.92-.59-1.43-.59-.52 0-1.04.2-1.43.59L10.3 9.45l-7.72 7.72c-.78.78-.78 2.05 0 2.83L4 21.41c.39.39.9.59 1.41.59.51 0 1.02-.2 1.41-.59l7.78-7.78 2.81-2.81c.8-.78.8-2.07 0-2.86zM5.41 20L4 18.59l7.72-7.72 1.47 1.35L5.41 20z\"/>\n",
              "  </svg>\n",
              "      </button>\n",
              "      \n",
              "  <style>\n",
              "    .colab-df-container {\n",
              "      display:flex;\n",
              "      flex-wrap:wrap;\n",
              "      gap: 12px;\n",
              "    }\n",
              "\n",
              "    .colab-df-convert {\n",
              "      background-color: #E8F0FE;\n",
              "      border: none;\n",
              "      border-radius: 50%;\n",
              "      cursor: pointer;\n",
              "      display: none;\n",
              "      fill: #1967D2;\n",
              "      height: 32px;\n",
              "      padding: 0 0 0 0;\n",
              "      width: 32px;\n",
              "    }\n",
              "\n",
              "    .colab-df-convert:hover {\n",
              "      background-color: #E2EBFA;\n",
              "      box-shadow: 0px 1px 2px rgba(60, 64, 67, 0.3), 0px 1px 3px 1px rgba(60, 64, 67, 0.15);\n",
              "      fill: #174EA6;\n",
              "    }\n",
              "\n",
              "    [theme=dark] .colab-df-convert {\n",
              "      background-color: #3B4455;\n",
              "      fill: #D2E3FC;\n",
              "    }\n",
              "\n",
              "    [theme=dark] .colab-df-convert:hover {\n",
              "      background-color: #434B5C;\n",
              "      box-shadow: 0px 1px 3px 1px rgba(0, 0, 0, 0.15);\n",
              "      filter: drop-shadow(0px 1px 2px rgba(0, 0, 0, 0.3));\n",
              "      fill: #FFFFFF;\n",
              "    }\n",
              "  </style>\n",
              "\n",
              "      <script>\n",
              "        const buttonEl =\n",
              "          document.querySelector('#df-18a4f706-25cb-407b-966e-8a91452827dd button.colab-df-convert');\n",
              "        buttonEl.style.display =\n",
              "          google.colab.kernel.accessAllowed ? 'block' : 'none';\n",
              "\n",
              "        async function convertToInteractive(key) {\n",
              "          const element = document.querySelector('#df-18a4f706-25cb-407b-966e-8a91452827dd');\n",
              "          const dataTable =\n",
              "            await google.colab.kernel.invokeFunction('convertToInteractive',\n",
              "                                                     [key], {});\n",
              "          if (!dataTable) return;\n",
              "\n",
              "          const docLinkHtml = 'Like what you see? Visit the ' +\n",
              "            '<a target=\"_blank\" href=https://colab.research.google.com/notebooks/data_table.ipynb>data table notebook</a>'\n",
              "            + ' to learn more about interactive tables.';\n",
              "          element.innerHTML = '';\n",
              "          dataTable['output_type'] = 'display_data';\n",
              "          await google.colab.output.renderOutput(dataTable, element);\n",
              "          const docLink = document.createElement('div');\n",
              "          docLink.innerHTML = docLinkHtml;\n",
              "          element.appendChild(docLink);\n",
              "        }\n",
              "      </script>\n",
              "    </div>\n",
              "  </div>\n",
              "  "
            ]
          },
          "metadata": {},
          "execution_count": 6
        }
      ]
    },
    {
      "cell_type": "code",
      "source": [
        "'''Checking is any null value exists'''\n",
        "\n",
        "dataframe.isna().sum()"
      ],
      "metadata": {
        "colab": {
          "base_uri": "https://localhost:8080/"
        },
        "id": "CA23DGeeT6p0",
        "outputId": "3ba3f9b6-34d7-4199-b236-2b08928f0205"
      },
      "execution_count": 9,
      "outputs": [
        {
          "output_type": "execute_result",
          "data": {
            "text/plain": [
              "satisfaction_level       0\n",
              "last_evaluation          0\n",
              "number_project           0\n",
              "average_montly_hours     0\n",
              "time_spend_company       0\n",
              "Work_accident            0\n",
              "left                     0\n",
              "promotion_last_5years    0\n",
              "Department               0\n",
              "salary                   0\n",
              "dtype: int64"
            ]
          },
          "metadata": {},
          "execution_count": 9
        }
      ]
    },
    {
      "cell_type": "code",
      "source": [
        ""
      ],
      "metadata": {
        "id": "s_dxTHBJUzMK"
      },
      "execution_count": null,
      "outputs": []
    },
    {
      "cell_type": "code",
      "source": [
        "print(\"\\t\\t\\tChecking for outliers\\n\")\n",
        "plt.figure(figsize=(9, 9)) \n",
        "plt.subplot(3, 3, 1)\n",
        "dataframe.boxplot(column=['promotion_last_5years'], color=dict(boxes='b', medians='r', caps='g'))\n",
        "plt.subplot(3, 3, 2, )\n",
        "dataframe.boxplot(column=['left'], color=dict(boxes='b', medians='r', caps='g'))\n",
        "plt.subplot(3, 3, 3, )\n",
        "dataframe.boxplot(column=['Work_accident'], color=dict(boxes='b', medians='r', caps='g'))\n",
        "plt.subplot(3, 3, 4, )\n",
        "dataframe.boxplot(column=['time_spend_company'], color=dict(boxes='b', medians='r', caps='g'))\n",
        "plt.subplot(3, 3, 5, )\n",
        "dataframe.boxplot(column=['average_montly_hours'], color=dict(boxes='b', medians='r', caps='g'))\n",
        "plt.subplot(3, 3, 6)\n",
        "dataframe.boxplot(column=['number_project'], color=dict(boxes='b', medians='r', caps='g'))\n",
        "plt.subplot(3, 3, 7, )\n",
        "dataframe.boxplot(column=['last_evaluation'], color=dict(boxes='b', medians='r', caps='g'))\n",
        "plt.subplot(3, 3, 8, )\n",
        "dataframe.boxplot(column=['satisfaction_level'], color=dict(boxes='b', medians='r', caps='g'))\n",
        "plt.show()"
      ],
      "metadata": {
        "colab": {
          "base_uri": "https://localhost:8080/",
          "height": 573
        },
        "id": "c7IJr3D3T-y2",
        "outputId": "54d3208d-cdad-45b3-9c46-a712fca65f2c"
      },
      "execution_count": 15,
      "outputs": [
        {
          "output_type": "stream",
          "name": "stdout",
          "text": [
            "\t\t\tChecking for outliers\n",
            "\n"
          ]
        },
        {
          "output_type": "display_data",
          "data": {
            "text/plain": [
              "<Figure size 648x648 with 8 Axes>"
            ],
            "image/png": "[encoded data removed]"
          },
          "metadata": {
            "needs_background": "light"
          }
        }
      ]
    },
    {
      "cell_type": "code",
      "source": [
        "dataframe = dataframe.replace({'salary': {'low': 1, 'medium': 2, 'high': 3}})\n",
        "dataframe = pd.get_dummies(dataframe,columns = ['Department'])"
      ],
      "metadata": {
        "id": "A1cfe0seUrO2"
      },
      "execution_count": 17,
      "outputs": []
    },
    {
      "cell_type": "markdown",
      "source": [
        "# KNN\n",
        "\n",
        "Class defining"
      ],
      "metadata": {
        "id": "LwWCGbkOVtST"
      }
    },
    {
      "cell_type": "code",
      "source": [
        "df_knn = dataframe.copy()\n",
        "x = df_knn.iloc[:, :-1].values\n",
        "y = df_knn.iloc[:, -1].values"
      ],
      "metadata": {
        "id": "Iv-QAxIGVawp"
      },
      "execution_count": 19,
      "outputs": []
    },
    {
      "cell_type": "code",
      "source": [
        "#standardizing dataset\n",
        "scaler = StandardScaler()\n",
        "x = scaler.fit_transform(x)"
      ],
      "metadata": {
        "id": "_pC2d30ZVfLZ"
      },
      "execution_count": 22,
      "outputs": []
    },
    {
      "cell_type": "code",
      "source": [
        "x_train, x_test, y_train, y_test = train_test_split(x, y, test_size=0.3, random_state=42)"
      ],
      "metadata": {
        "id": "qMYywf2gVz3I"
      },
      "execution_count": 23,
      "outputs": []
    },
    {
      "cell_type": "code",
      "source": [
        ""
      ],
      "metadata": {
        "id": "uSXsGz8IV9Ir"
      },
      "execution_count": 30,
      "outputs": []
    },
    {
      "cell_type": "code",
      "source": [
        "knn = KNeighborsClassifier(n_neighbors=3)\n",
        "knn.fit(x_train, y_train)\n",
        "y_pred = knn.predict(x_test)"
      ],
      "metadata": {
        "id": "GL7dBViGWAfD"
      },
      "execution_count": 25,
      "outputs": []
    },
    {
      "cell_type": "code",
      "source": [
        "print('Test Accuracy Score:', accuracy_score(y_test, y_pred)*100, '%\\n')\n",
        "\n",
        "print('----------------------Classification Report----------------------\\n', classification_report(y_test, y_pred))\n",
        "print('----------------------Confusion Matrix----------------------\\n', confusion_matrix(y_test, y_pred))"
      ],
      "metadata": {
        "colab": {
          "base_uri": "https://localhost:8080/"
        },
        "id": "ZFf2ID9uWGAG",
        "outputId": "f154836f-6449-47e2-daac-73a5bffc6798"
      },
      "execution_count": 32,
      "outputs": [
        {
          "output_type": "stream",
          "name": "stdout",
          "text": [
            "Test Accuracy Score: 99.97777777777777 %\n",
            "\n",
            "----------------------Classification Report----------------------\n",
            "               precision    recall  f1-score   support\n",
            "\n",
            "           0       1.00      1.00      1.00      3660\n",
            "           1       1.00      1.00      1.00       840\n",
            "\n",
            "    accuracy                           1.00      4500\n",
            "   macro avg       1.00      1.00      1.00      4500\n",
            "weighted avg       1.00      1.00      1.00      4500\n",
            "\n",
            "----------------------Confusion Matrix----------------------\n",
            " [[3660    0]\n",
            " [   1  839]]\n"
          ]
        }
      ]
    },
    {
      "cell_type": "markdown",
      "source": [
        "# KNN \n",
        "Clustering"
      ],
      "metadata": {
        "id": "zE-kxg_rW8Cf"
      }
    },
    {
      "cell_type": "code",
      "source": [
        "df_clust = dataframe.copy()\n",
        "df_clust = df_clust.drop(columns=['left']) "
      ],
      "metadata": {
        "id": "SwtgbTeoWLIr"
      },
      "execution_count": 33,
      "outputs": []
    },
    {
      "cell_type": "code",
      "source": [
        "scaler = StandardScaler()\n",
        "data = scaler.fit_transform(df_clust)\n",
        "df_clust = pd.DataFrame(data, columns=df_clust.columns)"
      ],
      "metadata": {
        "id": "6WDloPXdXDRN"
      },
      "execution_count": 34,
      "outputs": []
    },
    {
      "cell_type": "code",
      "source": [
        "from sklearn.cluster import KMeans\n",
        "from sklearn.metrics import silhouette_score\n",
        "\n",
        "sse = []\n",
        "for i in range(1, 20):\n",
        "    model = KMeans(n_clusters=i, random_state=48)\n",
        "    model.fit(df_clust)\n",
        "    sse.append(model.inertia_ / 1000)\n",
        "plt.plot(range(1, 20), sse, color='r')\n",
        "plt.scatter(range(1, 20), sse, color='b')\n",
        "plt.title('Different SSE with different k with KMeans'), plt.grid(), plt.show()"
      ],
      "metadata": {
        "colab": {
          "base_uri": "https://localhost:8080/",
          "height": 298
        },
        "id": "QlOkxwI8XF_r",
        "outputId": "c9cab0dd-574a-415b-94b6-938b6bee34c7"
      },
      "execution_count": 40,
      "outputs": [
        {
          "output_type": "display_data",
          "data": {
            "text/plain": [
              "<Figure size 432x288 with 1 Axes>"
            ],
            "image/png": "[encoded data removed]"
          },
          "metadata": {
            "needs_background": "light"
          }
        },
        {
          "output_type": "execute_result",
          "data": {
            "text/plain": [
              "(Text(0.5, 1.0, 'Different SSE with different k with KMeans'), None, None)"
            ]
          },
          "metadata": {},
          "execution_count": 40
        }
      ]
    },
    {
      "cell_type": "code",
      "source": [
        "model = KMeans(n_clusters=3, random_state=48)\n",
        "cluster_labels = model.fit_predict(df_clust)\n",
        "score = silhouette_score(df_clust, cluster_labels, metric='euclidean')\n",
        "print('Silhouette Score: %.3f' % score)"
      ],
      "metadata": {
        "colab": {
          "base_uri": "https://localhost:8080/"
        },
        "id": "bcln3pJeXLKV",
        "outputId": "284b921e-14b0-4868-b25a-55cc69797903"
      },
      "execution_count": 41,
      "outputs": [
        {
          "output_type": "stream",
          "name": "stdout",
          "text": [
            "Silhouette Score: 0.091\n"
          ]
        }
      ]
    },
    {
      "cell_type": "code",
      "source": [
        "predict = model.predict(df_clust)\n",
        "\n",
        "# adding our predictions to our dataset \n",
        "df_clust['new_left'] = pd.Series(predict, index=df_clust.index)\n",
        "df_clust"
      ],
      "metadata": {
        "colab": {
          "base_uri": "https://localhost:8080/",
          "height": 488
        },
        "id": "l02x-bPjXchu",
        "outputId": "013e993d-1541-4f6b-d2f4-bb2698ade82c"
      },
      "execution_count": 42,
      "outputs": [
        {
          "output_type": "execute_result",
          "data": {
            "text/plain": [
              "       satisfaction_level  last_evaluation  number_project  \\\n",
              "0               -0.936495        -1.087275       -1.462863   \n",
              "1                0.752814         0.840707        0.971113   \n",
              "2               -2.022479         0.957554        2.593763   \n",
              "3                0.431041         0.899131        0.971113   \n",
              "4               -0.976716        -1.145699       -1.462863   \n",
              "...                   ...              ...             ...   \n",
              "14994           -0.856051        -0.853580       -1.462863   \n",
              "14995           -0.976716        -1.379394       -1.462863   \n",
              "14996           -0.976716        -1.087275       -1.462863   \n",
              "14997           -2.022479         1.424944        1.782438   \n",
              "14998           -0.976716        -1.145699       -1.462863   \n",
              "\n",
              "       average_montly_hours  time_spend_company  Work_accident  \\\n",
              "0                 -0.882040           -0.341235      -0.411165   \n",
              "1                  1.220423            1.713436      -0.411165   \n",
              "2                  1.420657            0.343655      -0.411165   \n",
              "3                  0.439508            1.028546      -0.411165   \n",
              "4                 -0.841993           -0.341235      -0.411165   \n",
              "...                     ...                 ...            ...   \n",
              "14994             -1.002181           -0.341235      -0.411165   \n",
              "14995             -0.821970           -0.341235      -0.411165   \n",
              "14996             -1.162368           -0.341235      -0.411165   \n",
              "14997              1.580845            0.343655      -0.411165   \n",
              "14998             -0.862016           -0.341235      -0.411165   \n",
              "\n",
              "       promotion_last_5years    salary  Department_IT  Department_RandD  \\\n",
              "0                  -0.147412 -0.933368      -0.298486         -0.235321   \n",
              "1                  -0.147412  0.636092      -0.298486         -0.235321   \n",
              "2                  -0.147412  0.636092      -0.298486         -0.235321   \n",
              "3                  -0.147412 -0.933368      -0.298486         -0.235321   \n",
              "4                  -0.147412 -0.933368      -0.298486         -0.235321   \n",
              "...                      ...       ...            ...               ...   \n",
              "14994              -0.147412 -0.933368      -0.298486         -0.235321   \n",
              "14995              -0.147412 -0.933368      -0.298486         -0.235321   \n",
              "14996              -0.147412 -0.933368      -0.298486         -0.235321   \n",
              "14997              -0.147412 -0.933368      -0.298486         -0.235321   \n",
              "14998              -0.147412 -0.933368      -0.298486         -0.235321   \n",
              "\n",
              "       Department_accounting  Department_hr  Department_management  \\\n",
              "0                  -0.232148      -0.227647              -0.209391   \n",
              "1                  -0.232148      -0.227647              -0.209391   \n",
              "2                  -0.232148      -0.227647              -0.209391   \n",
              "3                  -0.232148      -0.227647              -0.209391   \n",
              "4                  -0.232148      -0.227647              -0.209391   \n",
              "...                      ...            ...                    ...   \n",
              "14994              -0.232148      -0.227647              -0.209391   \n",
              "14995              -0.232148      -0.227647              -0.209391   \n",
              "14996              -0.232148      -0.227647              -0.209391   \n",
              "14997              -0.232148      -0.227647              -0.209391   \n",
              "14998              -0.232148      -0.227647              -0.209391   \n",
              "\n",
              "       Department_marketing  Department_product_mng  Department_sales  \\\n",
              "0                 -0.246322               -0.252953          1.619551   \n",
              "1                 -0.246322               -0.252953          1.619551   \n",
              "2                 -0.246322               -0.252953          1.619551   \n",
              "3                 -0.246322               -0.252953          1.619551   \n",
              "4                 -0.246322               -0.252953          1.619551   \n",
              "...                     ...                     ...               ...   \n",
              "14994             -0.246322               -0.252953         -0.617455   \n",
              "14995             -0.246322               -0.252953         -0.617455   \n",
              "14996             -0.246322               -0.252953         -0.617455   \n",
              "14997             -0.246322               -0.252953         -0.617455   \n",
              "14998             -0.246322               -0.252953         -0.617455   \n",
              "\n",
              "       Department_support  Department_technical  new_left  \n",
              "0               -0.417791             -0.470655         2  \n",
              "1               -0.417791             -0.470655         2  \n",
              "2               -0.417791             -0.470655         2  \n",
              "3               -0.417791             -0.470655         2  \n",
              "4               -0.417791             -0.470655         2  \n",
              "...                   ...                   ...       ...  \n",
              "14994            2.393538             -0.470655         1  \n",
              "14995            2.393538             -0.470655         1  \n",
              "14996            2.393538             -0.470655         1  \n",
              "14997            2.393538             -0.470655         1  \n",
              "14998            2.393538             -0.470655         1  \n",
              "\n",
              "[14999 rows x 19 columns]"
            ],
            "text/html": [
              "\n",
              "  <div id=\"df-77895eb7-6909-4860-8fba-5d19fa94a61c\">\n",
              "    <div class=\"colab-df-container\">\n",
              "      <div>\n",
              "<style scoped>\n",
              "    .dataframe tbody tr th:only-of-type {\n",
              "        vertical-align: middle;\n",
              "    }\n",
              "\n",
              "    .dataframe tbody tr th {\n",
              "        vertical-align: top;\n",
              "    }\n",
              "\n",
              "    .dataframe thead th {\n",
              "        text-align: right;\n",
              "    }\n",
              "</style>\n",
              "<table border=\"1\" class=\"dataframe\">\n",
              "  <thead>\n",
              "    <tr style=\"text-align: right;\">\n",
              "      <th></th>\n",
              "      <th>satisfaction_level</th>\n",
              "      <th>last_evaluation</th>\n",
              "      <th>number_project</th>\n",
              "      <th>average_montly_hours</th>\n",
              "      <th>time_spend_company</th>\n",
              "      <th>Work_accident</th>\n",
              "      <th>promotion_last_5years</th>\n",
              "      <th>salary</th>\n",
              "      <th>Department_IT</th>\n",
              "      <th>Department_RandD</th>\n",
              "      <th>Department_accounting</th>\n",
              "      <th>Department_hr</th>\n",
              "      <th>Department_management</th>\n",
              "      <th>Department_marketing</th>\n",
              "      <th>Department_product_mng</th>\n",
              "      <th>Department_sales</th>\n",
              "      <th>Department_support</th>\n",
              "      <th>Department_technical</th>\n",
              "      <th>new_left</th>\n",
              "    </tr>\n",
              "  </thead>\n",
              "  <tbody>\n",
              "    <tr>\n",
              "      <th>0</th>\n",
              "      <td>-0.936495</td>\n",
              "      <td>-1.087275</td>\n",
              "      <td>-1.462863</td>\n",
              "      <td>-0.882040</td>\n",
              "      <td>-0.341235</td>\n",
              "      <td>-0.411165</td>\n",
              "      <td>-0.147412</td>\n",
              "      <td>-0.933368</td>\n",
              "      <td>-0.298486</td>\n",
              "      <td>-0.235321</td>\n",
              "      <td>-0.232148</td>\n",
              "      <td>-0.227647</td>\n",
              "      <td>-0.209391</td>\n",
              "      <td>-0.246322</td>\n",
              "      <td>-0.252953</td>\n",
              "      <td>1.619551</td>\n",
              "      <td>-0.417791</td>\n",
              "      <td>-0.470655</td>\n",
              "      <td>2</td>\n",
              "    </tr>\n",
              "    <tr>\n",
              "      <th>1</th>\n",
              "      <td>0.752814</td>\n",
              "      <td>0.840707</td>\n",
              "      <td>0.971113</td>\n",
              "      <td>1.220423</td>\n",
              "      <td>1.713436</td>\n",
              "      <td>-0.411165</td>\n",
              "      <td>-0.147412</td>\n",
              "      <td>0.636092</td>\n",
              "      <td>-0.298486</td>\n",
              "      <td>-0.235321</td>\n",
              "      <td>-0.232148</td>\n",
              "      <td>-0.227647</td>\n",
              "      <td>-0.209391</td>\n",
              "      <td>-0.246322</td>\n",
              "      <td>-0.252953</td>\n",
              "      <td>1.619551</td>\n",
              "      <td>-0.417791</td>\n",
              "      <td>-0.470655</td>\n",
              "      <td>2</td>\n",
              "    </tr>\n",
              "    <tr>\n",
              "      <th>2</th>\n",
              "      <td>-2.022479</td>\n",
              "      <td>0.957554</td>\n",
              "      <td>2.593763</td>\n",
              "      <td>1.420657</td>\n",
              "      <td>0.343655</td>\n",
              "      <td>-0.411165</td>\n",
              "      <td>-0.147412</td>\n",
              "      <td>0.636092</td>\n",
              "      <td>-0.298486</td>\n",
              "      <td>-0.235321</td>\n",
              "      <td>-0.232148</td>\n",
              "      <td>-0.227647</td>\n",
              "      <td>-0.209391</td>\n",
              "      <td>-0.246322</td>\n",
              "      <td>-0.252953</td>\n",
              "      <td>1.619551</td>\n",
              "      <td>-0.417791</td>\n",
              "      <td>-0.470655</td>\n",
              "      <td>2</td>\n",
              "    </tr>\n",
              "    <tr>\n",
              "      <th>3</th>\n",
              "      <td>0.431041</td>\n",
              "      <td>0.899131</td>\n",
              "      <td>0.971113</td>\n",
              "      <td>0.439508</td>\n",
              "      <td>1.028546</td>\n",
              "      <td>-0.411165</td>\n",
              "      <td>-0.147412</td>\n",
              "      <td>-0.933368</td>\n",
              "      <td>-0.298486</td>\n",
              "      <td>-0.235321</td>\n",
              "      <td>-0.232148</td>\n",
              "      <td>-0.227647</td>\n",
              "      <td>-0.209391</td>\n",
              "      <td>-0.246322</td>\n",
              "      <td>-0.252953</td>\n",
              "      <td>1.619551</td>\n",
              "      <td>-0.417791</td>\n",
              "      <td>-0.470655</td>\n",
              "      <td>2</td>\n",
              "    </tr>\n",
              "    <tr>\n",
              "      <th>4</th>\n",
              "      <td>-0.976716</td>\n",
              "      <td>-1.145699</td>\n",
              "      <td>-1.462863</td>\n",
              "      <td>-0.841993</td>\n",
              "      <td>-0.341235</td>\n",
              "      <td>-0.411165</td>\n",
              "      <td>-0.147412</td>\n",
              "      <td>-0.933368</td>\n",
              "      <td>-0.298486</td>\n",
              "      <td>-0.235321</td>\n",
              "      <td>-0.232148</td>\n",
              "      <td>-0.227647</td>\n",
              "      <td>-0.209391</td>\n",
              "      <td>-0.246322</td>\n",
              "      <td>-0.252953</td>\n",
              "      <td>1.619551</td>\n",
              "      <td>-0.417791</td>\n",
              "      <td>-0.470655</td>\n",
              "      <td>2</td>\n",
              "    </tr>\n",
              "    <tr>\n",
              "      <th>...</th>\n",
              "      <td>...</td>\n",
              "      <td>...</td>\n",
              "      <td>...</td>\n",
              "      <td>...</td>\n",
              "      <td>...</td>\n",
              "      <td>...</td>\n",
              "      <td>...</td>\n",
              "      <td>...</td>\n",
              "      <td>...</td>\n",
              "      <td>...</td>\n",
              "      <td>...</td>\n",
              "      <td>...</td>\n",
              "      <td>...</td>\n",
              "      <td>...</td>\n",
              "      <td>...</td>\n",
              "      <td>...</td>\n",
              "      <td>...</td>\n",
              "      <td>...</td>\n",
              "      <td>...</td>\n",
              "    </tr>\n",
              "    <tr>\n",
              "      <th>14994</th>\n",
              "      <td>-0.856051</td>\n",
              "      <td>-0.853580</td>\n",
              "      <td>-1.462863</td>\n",
              "      <td>-1.002181</td>\n",
              "      <td>-0.341235</td>\n",
              "      <td>-0.411165</td>\n",
              "      <td>-0.147412</td>\n",
              "      <td>-0.933368</td>\n",
              "      <td>-0.298486</td>\n",
              "      <td>-0.235321</td>\n",
              "      <td>-0.232148</td>\n",
              "      <td>-0.227647</td>\n",
              "      <td>-0.209391</td>\n",
              "      <td>-0.246322</td>\n",
              "      <td>-0.252953</td>\n",
              "      <td>-0.617455</td>\n",
              "      <td>2.393538</td>\n",
              "      <td>-0.470655</td>\n",
              "      <td>1</td>\n",
              "    </tr>\n",
              "    <tr>\n",
              "      <th>14995</th>\n",
              "      <td>-0.976716</td>\n",
              "      <td>-1.379394</td>\n",
              "      <td>-1.462863</td>\n",
              "      <td>-0.821970</td>\n",
              "      <td>-0.341235</td>\n",
              "      <td>-0.411165</td>\n",
              "      <td>-0.147412</td>\n",
              "      <td>-0.933368</td>\n",
              "      <td>-0.298486</td>\n",
              "      <td>-0.235321</td>\n",
              "      <td>-0.232148</td>\n",
              "      <td>-0.227647</td>\n",
              "      <td>-0.209391</td>\n",
              "      <td>-0.246322</td>\n",
              "      <td>-0.252953</td>\n",
              "      <td>-0.617455</td>\n",
              "      <td>2.393538</td>\n",
              "      <td>-0.470655</td>\n",
              "      <td>1</td>\n",
              "    </tr>\n",
              "    <tr>\n",
              "      <th>14996</th>\n",
              "      <td>-0.976716</td>\n",
              "      <td>-1.087275</td>\n",
              "      <td>-1.462863</td>\n",
              "      <td>-1.162368</td>\n",
              "      <td>-0.341235</td>\n",
              "      <td>-0.411165</td>\n",
              "      <td>-0.147412</td>\n",
              "      <td>-0.933368</td>\n",
              "      <td>-0.298486</td>\n",
              "      <td>-0.235321</td>\n",
              "      <td>-0.232148</td>\n",
              "      <td>-0.227647</td>\n",
              "      <td>-0.209391</td>\n",
              "      <td>-0.246322</td>\n",
              "      <td>-0.252953</td>\n",
              "      <td>-0.617455</td>\n",
              "      <td>2.393538</td>\n",
              "      <td>-0.470655</td>\n",
              "      <td>1</td>\n",
              "    </tr>\n",
              "    <tr>\n",
              "      <th>14997</th>\n",
              "      <td>-2.022479</td>\n",
              "      <td>1.424944</td>\n",
              "      <td>1.782438</td>\n",
              "      <td>1.580845</td>\n",
              "      <td>0.343655</td>\n",
              "      <td>-0.411165</td>\n",
              "      <td>-0.147412</td>\n",
              "      <td>-0.933368</td>\n",
              "      <td>-0.298486</td>\n",
              "      <td>-0.235321</td>\n",
              "      <td>-0.232148</td>\n",
              "      <td>-0.227647</td>\n",
              "      <td>-0.209391</td>\n",
              "      <td>-0.246322</td>\n",
              "      <td>-0.252953</td>\n",
              "      <td>-0.617455</td>\n",
              "      <td>2.393538</td>\n",
              "      <td>-0.470655</td>\n",
              "      <td>1</td>\n",
              "    </tr>\n",
              "    <tr>\n",
              "      <th>14998</th>\n",
              "      <td>-0.976716</td>\n",
              "      <td>-1.145699</td>\n",
              "      <td>-1.462863</td>\n",
              "      <td>-0.862016</td>\n",
              "      <td>-0.341235</td>\n",
              "      <td>-0.411165</td>\n",
              "      <td>-0.147412</td>\n",
              "      <td>-0.933368</td>\n",
              "      <td>-0.298486</td>\n",
              "      <td>-0.235321</td>\n",
              "      <td>-0.232148</td>\n",
              "      <td>-0.227647</td>\n",
              "      <td>-0.209391</td>\n",
              "      <td>-0.246322</td>\n",
              "      <td>-0.252953</td>\n",
              "      <td>-0.617455</td>\n",
              "      <td>2.393538</td>\n",
              "      <td>-0.470655</td>\n",
              "      <td>1</td>\n",
              "    </tr>\n",
              "  </tbody>\n",
              "</table>\n",
              "<p>14999 rows × 19 columns</p>\n",
              "</div>\n",
              "      <button class=\"colab-df-convert\" onclick=\"convertToInteractive('df-77895eb7-6909-4860-8fba-5d19fa94a61c')\"\n",
              "              title=\"Convert this dataframe to an interactive table.\"\n",
              "              style=\"display:none;\">\n",
              "        \n",
              "  <svg xmlns=\"http://www.w3.org/2000/svg\" height=\"24px\"viewBox=\"0 0 24 24\"\n",
              "       width=\"24px\">\n",
              "    <path d=\"M0 0h24v24H0V0z\" fill=\"none\"/>\n",
              "    <path d=\"M18.56 5.44l.94 2.06.94-2.06 2.06-.94-2.06-.94-.94-2.06-.94 2.06-2.06.94zm-11 1L8.5 8.5l.94-2.06 2.06-.94-2.06-.94L8.5 2.5l-.94 2.06-2.06.94zm10 10l.94 2.06.94-2.06 2.06-.94-2.06-.94-.94-2.06-.94 2.06-2.06.94z\"/><path d=\"M17.41 7.96l-1.37-1.37c-.4-.4-.92-.59-1.43-.59-.52 0-1.04.2-1.43.59L10.3 9.45l-7.72 7.72c-.78.78-.78 2.05 0 2.83L4 21.41c.39.39.9.59 1.41.59.51 0 1.02-.2 1.41-.59l7.78-7.78 2.81-2.81c.8-.78.8-2.07 0-2.86zM5.41 20L4 18.59l7.72-7.72 1.47 1.35L5.41 20z\"/>\n",
              "  </svg>\n",
              "      </button>\n",
              "      \n",
              "  <style>\n",
              "    .colab-df-container {\n",
              "      display:flex;\n",
              "      flex-wrap:wrap;\n",
              "      gap: 12px;\n",
              "    }\n",
              "\n",
              "    .colab-df-convert {\n",
              "      background-color: #E8F0FE;\n",
              "      border: none;\n",
              "      border-radius: 50%;\n",
              "      cursor: pointer;\n",
              "      display: none;\n",
              "      fill: #1967D2;\n",
              "      height: 32px;\n",
              "      padding: 0 0 0 0;\n",
              "      width: 32px;\n",
              "    }\n",
              "\n",
              "    .colab-df-convert:hover {\n",
              "      background-color: #E2EBFA;\n",
              "      box-shadow: 0px 1px 2px rgba(60, 64, 67, 0.3), 0px 1px 3px 1px rgba(60, 64, 67, 0.15);\n",
              "      fill: #174EA6;\n",
              "    }\n",
              "\n",
              "    [theme=dark] .colab-df-convert {\n",
              "      background-color: #3B4455;\n",
              "      fill: #D2E3FC;\n",
              "    }\n",
              "\n",
              "    [theme=dark] .colab-df-convert:hover {\n",
              "      background-color: #434B5C;\n",
              "      box-shadow: 0px 1px 3px 1px rgba(0, 0, 0, 0.15);\n",
              "      filter: drop-shadow(0px 1px 2px rgba(0, 0, 0, 0.3));\n",
              "      fill: #FFFFFF;\n",
              "    }\n",
              "  </style>\n",
              "\n",
              "      <script>\n",
              "        const buttonEl =\n",
              "          document.querySelector('#df-77895eb7-6909-4860-8fba-5d19fa94a61c button.colab-df-convert');\n",
              "        buttonEl.style.display =\n",
              "          google.colab.kernel.accessAllowed ? 'block' : 'none';\n",
              "\n",
              "        async function convertToInteractive(key) {\n",
              "          const element = document.querySelector('#df-77895eb7-6909-4860-8fba-5d19fa94a61c');\n",
              "          const dataTable =\n",
              "            await google.colab.kernel.invokeFunction('convertToInteractive',\n",
              "                                                     [key], {});\n",
              "          if (!dataTable) return;\n",
              "\n",
              "          const docLinkHtml = 'Like what you see? Visit the ' +\n",
              "            '<a target=\"_blank\" href=https://colab.research.google.com/notebooks/data_table.ipynb>data table notebook</a>'\n",
              "            + ' to learn more about interactive tables.';\n",
              "          element.innerHTML = '';\n",
              "          dataTable['output_type'] = 'display_data';\n",
              "          await google.colab.output.renderOutput(dataTable, element);\n",
              "          const docLink = document.createElement('div');\n",
              "          docLink.innerHTML = docLinkHtml;\n",
              "          element.appendChild(docLink);\n",
              "        }\n",
              "      </script>\n",
              "    </div>\n",
              "  </div>\n",
              "  "
            ]
          },
          "metadata": {},
          "execution_count": 42
        }
      ]
    },
    {
      "cell_type": "code",
      "source": [
        "plt.subplot(1, 2, 1)\n",
        "df_clust['new_left'].value_counts().sort_values().plot(kind = 'bar',color = '#A56CE0',title='Cluster dataset')\n",
        "\n",
        "\n",
        "plt.subplot(1, 2, 2)\n",
        "df_knn['left'].value_counts().sort_values().plot(kind = 'bar' ,color = '#95D91B',title=\"Class dataset\")\n",
        "\n",
        "\n",
        "print(\"\\nValue counts with respect to 'Left' column in dataset class\\n\",df_knn['left'].value_counts(),\"\\n\")\n",
        "\n",
        "print(\"\\n Value counts with respect to 'Left' column in dataset cluster\\n\",df_clust['new_left'].value_counts(),\"\\n\")\n",
        "\n",
        "plt.show()"
      ],
      "metadata": {
        "colab": {
          "base_uri": "https://localhost:8080/",
          "height": 504
        },
        "id": "Nq4iMs6HYgKJ",
        "outputId": "234a6492-6c56-4af1-fd92-e3b3e4bf0757"
      },
      "execution_count": 54,
      "outputs": [
        {
          "output_type": "stream",
          "name": "stdout",
          "text": [
            "\n",
            "Value counts with respect to 'Left' column in dataset class\n",
            " 0    11428\n",
            "1     3571\n",
            "Name: left, dtype: int64 \n",
            "\n",
            "\n",
            " Value counts with respect to 'Left' column in dataset cluster\n",
            " 1    8139\n",
            "2    4140\n",
            "0    2720\n",
            "Name: new_left, dtype: int64 \n",
            "\n"
          ]
        },
        {
          "output_type": "display_data",
          "data": {
            "text/plain": [
              "<Figure size 432x288 with 2 Axes>"
            ],
            "image/png": "[encoded data removed]"
          },
          "metadata": {
            "needs_background": "light"
          }
        }
      ]
    },
    {
      "cell_type": "code",
      "source": [
        "#Seeing what the dataset with new field effects prediction\n",
        "\n",
        "x_clus = df_clust.iloc[:, :-1].values\n",
        "y_clus = df_clust.iloc[:,-1].values\n",
        "\n",
        "scaler = StandardScaler()\n",
        "x_clus = scaler.fit_transform(x_clus)\n",
        "\n",
        "\n",
        "x_train, x_test, y_train, y_test = train_test_split(x_clus, y_clus, test_size=0.3, random_state=42)\n",
        "\n",
        "# ========================= KNeighborsClassifier  ================================\n",
        "knn = KNeighborsClassifier(n_neighbors=3)\n",
        "knn.fit(x_train, y_train)\n",
        "y_pred = knn.predict(x_test)\n",
        "# cluster_eval = compute(y_test, knn.predict(x_test))\n",
        "print(\"Accuracy of our new model is \",accuracy_score(y_test,y_pred))"
      ],
      "metadata": {
        "colab": {
          "base_uri": "https://localhost:8080/"
        },
        "id": "ob3dui1kYtQs",
        "outputId": "ea54a809-0f08-4b6e-fdb0-85a83d0e5397"
      },
      "execution_count": 57,
      "outputs": [
        {
          "output_type": "stream",
          "name": "stdout",
          "text": [
            "Accuracy of our new model is  1.0\n"
          ]
        }
      ]
    },
    {
      "cell_type": "code",
      "source": [
        ""
      ],
      "metadata": {
        "id": "qNUHlZkZZl79"
      },
      "execution_count": null,
      "outputs": []
    }
  ]
}